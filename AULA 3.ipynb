{
  "nbformat": 4,
  "nbformat_minor": 0,
  "metadata": {
    "colab": {
      "provenance": [],
      "authorship_tag": "ABX9TyPMCvxqlSUb3JZAfxzvGJvy",
      "include_colab_link": true
    },
    "kernelspec": {
      "name": "python3",
      "display_name": "Python 3"
    },
    "language_info": {
      "name": "python"
    }
  },
  "cells": [
    {
      "cell_type": "markdown",
      "metadata": {
        "id": "view-in-github",
        "colab_type": "text"
      },
      "source": [
        "<a href=\"https://colab.research.google.com/github/Vinizada2S/massaki/blob/main/AULA%203.ipynb\" target=\"_parent\"><img src=\"https://colab.research.google.com/assets/colab-badge.svg\" alt=\"Open In Colab\"/></a>"
      ]
    },
    {
      "cell_type": "code",
      "execution_count": null,
      "metadata": {
        "id": "a0mbBnJVyV58"
      },
      "outputs": [],
      "source": []
    },
    {
      "cell_type": "markdown",
      "source": [
        "# Par Ou Impar"
      ],
      "metadata": {
        "id": "i0Bnzw6szoIy"
      }
    },
    {
      "cell_type": "code",
      "source": [
        "# Solicite ao usúario que insira um numer0\n",
        "numero = int(input(\"Digite um número inteiro: \"))\n",
        "\n",
        "#Verifica se o número é par ou ímpar\n",
        "if numero % 2 == 0:\n",
        "  print(f\"o número {numero} é par.\")\n",
        "else:\n",
        "  print(f\"o número {numero} é ímpar.\")\n",
        "\n"
      ],
      "metadata": {
        "colab": {
          "base_uri": "https://localhost:8080/"
        },
        "id": "xqn7Ok0VzqXb",
        "outputId": "3c5adb97-415e-4b63-9bd1-305a5715a7dd"
      },
      "execution_count": 11,
      "outputs": [
        {
          "output_type": "stream",
          "name": "stdout",
          "text": [
            "Digite um número inteiro: 5\n",
            "o número 5 é ímpar.\n"
          ]
        }
      ]
    },
    {
      "cell_type": "markdown",
      "source": [
        "# Raiz Quadrada"
      ],
      "metadata": {
        "id": "O9zGJsmjzxtT"
      }
    },
    {
      "cell_type": "code",
      "source": [
        "import math\n",
        "# Solicita ao usuário que insira um número\n",
        "numero = float(input(\"Digite um número: \"))\n",
        "# Verifica se o número é maior ou igual a zero\n",
        "if numero >= 0:\n",
        "  raiz_quadrada = math.sqrt(numero)\n",
        "  print(f\"A raiz quadrada de {numero} é {raiz_quadrada:.2f}.\")\n",
        "else:\n",
        "  print(\"Não existe raiz real para este número!\")"
      ],
      "metadata": {
        "colab": {
          "base_uri": "https://localhost:8080/"
        },
        "id": "U6iRAxhL0BiG",
        "outputId": "6e7475e6-c570-40ad-e650-e8b52dca136f"
      },
      "execution_count": 12,
      "outputs": [
        {
          "output_type": "stream",
          "name": "stdout",
          "text": [
            "Digite um número: 100\n",
            "A raiz quadrada de 100.0 é 10.00.\n"
          ]
        }
      ]
    },
    {
      "cell_type": "code",
      "source": [
        "# Solicita ao usuário que insira o comprimento e a largura da camiseta\n",
        "comprimento = float(input(\"Digite o comprimento da camiseta em centímetros: \"))\n",
        "largura = float(input(\"Digite a largura da camiseta em centímetros: \"))\n",
        "# Determina o tamanho da camiseta com base no comprimento e largura\n",
        "if comprimento <= 60 and largura <= 45:\n",
        "  tamanho = \"PP\"\n",
        "elif comprimento <= 65 and largura <= 48:\n",
        "  tamanho = \"P\"\n",
        "elif comprimento <= 70 and largura <= 51:\n",
        "  tamanho = \"M\"\n",
        "elif comprimento <= 75 and largura <= 54:\n",
        "  tamanho = \"G\"\n",
        "elif comprimento <= 80 and largura <= 57:\n",
        "  tamanho = \"GG\"\n",
        "else:\n",
        "  tamanho = \"XGG\"\n",
        "# Exibe o tamanho da camiseta\n",
        "print(f\"o tamanho da camiseta é {tamanho}.\")\n",
        ""
      ],
      "metadata": {
        "colab": {
          "base_uri": "https://localhost:8080/"
        },
        "id": "ubpCfI6z0VW5",
        "outputId": "b61a37b8-ffa6-4cbe-d9e2-847ac461802a"
      },
      "execution_count": 14,
      "outputs": [
        {
          "output_type": "stream",
          "name": "stdout",
          "text": [
            "Digite o comprimento da camiseta em centímetros: 100\n",
            "Digite a largura da camiseta em centímetros: 100\n",
            "o tamanho da camiseta é XGG.\n"
          ]
        }
      ]
    }
  ]
}