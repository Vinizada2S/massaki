{
  "nbformat": 4,
  "nbformat_minor": 0,
  "metadata": {
    "colab": {
      "provenance": [],
      "authorship_tag": "ABX9TyMzEbmaTqCqQbnQ1/J2v8b1",
      "include_colab_link": true
    },
    "kernelspec": {
      "name": "python3",
      "display_name": "Python 3"
    },
    "language_info": {
      "name": "python"
    }
  },
  "cells": [
    {
      "cell_type": "markdown",
      "metadata": {
        "id": "view-in-github",
        "colab_type": "text"
      },
      "source": [
        "<a href=\"https://colab.research.google.com/github/Vinizada2S/massaki/blob/main/AuLa%202.ipynb\" target=\"_parent\"><img src=\"https://colab.research.google.com/assets/colab-badge.svg\" alt=\"Open In Colab\"/></a>"
      ]
    },
    {
      "cell_type": "code",
      "execution_count": null,
      "metadata": {
        "id": "vShfgLSa6-AN"
      },
      "outputs": [],
      "source": []
    },
    {
      "cell_type": "markdown",
      "source": [
        "#R1&&&&&&"
      ],
      "metadata": {
        "id": "7aSzjFJ46_xH"
      }
    },
    {
      "cell_type": "code",
      "source": [
        "#O erro que foi cometido pelo programador é visto na parte do pseudocódigo na linha que calcula a temperatura em Fahrenheit\n",
        " #F= (9/5*C) +\n",
        "#Variável F foi declarada como caracter, enquanto deveria ser número, o valor ‘32’ está entre aspas então ele é tratado como uma string e não como um numero.\n",
        "\n",
        "#comando correto\n",
        "\n",
        "C = float(input(\"digite a temperatura em graus celsius: \"))\n",
        "f = (9/5)*c + 32\n",
        "print(\"a temperatura em graus fahrenhelt é:\", f)"
      ],
      "metadata": {
        "id": "WevDc5WJ7GH-"
      },
      "execution_count": null,
      "outputs": []
    },
    {
      "cell_type": "code",
      "source": [
        "#Pseudocódigo: Uma representação textual que descreve a lógica do algoritmo de forma clara e legível\n",
        "\n",
        "#Fluxograma: Uma representação gráfica que utiliza formas geométricas para ilustrar o fluxo do algoritmo\n",
        "\n",
        "#Código Fonte: A implementação do algoritmo em uma linguagem de programação específica, como Python\n"
      ],
      "metadata": {
        "id": "-L8FWOeV9yKl"
      },
      "execution_count": null,
      "outputs": []
    },
    {
      "cell_type": "code",
      "source": [
        "#Int são números inteiros, ou seja, números sem parte decimal.\n",
        "#Float são números racionais, que podem ter parte decimal.\n",
        "#Str são sequências de caracteres, ou seja, textos.\n",
        "#Bool são valores lógicos, que podem ser verdadeiro (true) ou falso (false).\n",
        "\n",
        "\n",
        "#EXP:\n",
        "Inteiro\n",
        "numero_inteiro = 10\n",
        "print(\"Número inteiro:\", numero_inteiro)\n",
        "\n",
        "Ponto Flutuante\n",
        "numero_ponto_flutuante = 3.14\n",
        "print(\"Número ponto flutuante:\", numero_ponto_flutuante)\n",
        "\n",
        "String\n",
        "texto = \"Olá, mundo!\"\n",
        "print(\"String:\", texto)\n",
        "\n",
        "Booleano\n",
        "valor_booleano = True\n",
        "print(\"Valor booleano:\", valor_booleano)\n",
        "\n",
        "\n"
      ],
      "metadata": {
        "id": "-9CDuHha_TmG"
      },
      "execution_count": null,
      "outputs": []
    }
  ]
}