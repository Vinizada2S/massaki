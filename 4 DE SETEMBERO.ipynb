{
  "nbformat": 4,
  "nbformat_minor": 0,
  "metadata": {
    "colab": {
      "provenance": [],
      "authorship_tag": "ABX9TyOoPG+yjddSmQ1tzid3uHnB",
      "include_colab_link": true
    },
    "kernelspec": {
      "name": "python3",
      "display_name": "Python 3"
    },
    "language_info": {
      "name": "python"
    }
  },
  "cells": [
    {
      "cell_type": "markdown",
      "metadata": {
        "id": "view-in-github",
        "colab_type": "text"
      },
      "source": [
        "<a href=\"https://colab.research.google.com/github/Vinizada2S/massaki/blob/main/4%20DE%20SETEMBERO.ipynb\" target=\"_parent\"><img src=\"https://colab.research.google.com/assets/colab-badge.svg\" alt=\"Open In Colab\"/></a>"
      ]
    },
    {
      "cell_type": "code",
      "execution_count": null,
      "metadata": {
        "id": "iH27BFYV1p35"
      },
      "outputs": [],
      "source": []
    },
    {
      "cell_type": "markdown",
      "source": [
        "#4 de setembro"
      ],
      "metadata": {
        "id": "31KWqdUs3ouG"
      }
    },
    {
      "cell_type": "code",
      "source": [
        "#Exemplo 2)Polegadas para milimetro\n",
        "polegadas = float(input(\"Digite a medida em polegadas: \"))\n",
        "milimetros = polegadas * 25.4\n",
        "print(\"Valor em mm= \",milimetros)"
      ],
      "metadata": {
        "colab": {
          "base_uri": "https://localhost:8080/"
        },
        "id": "KMR9YCsE3wJU",
        "outputId": "8436253a-1eb6-4d51-9e22-bc10234f0d1c"
      },
      "execution_count": 2,
      "outputs": [
        {
          "output_type": "stream",
          "name": "stdout",
          "text": [
            "Digite a medida em polegadas: 4\n",
            "Valor em mm=  101.6\n"
          ]
        }
      ]
    },
    {
      "cell_type": "code",
      "source": [
        "#Exemplo 5) Calculo de Volume esfera\n",
        "from math import pi\n",
        "r = float(input(\"Digite o raio: \"))\n",
        "vol =(4/3)*pi*r**3\n",
        "print(vol)"
      ],
      "metadata": {
        "colab": {
          "base_uri": "https://localhost:8080/"
        },
        "id": "Dmq-dXJw4KXv",
        "outputId": "785a153a-41d0-4592-fe8f-39c6a5326029"
      },
      "execution_count": 10,
      "outputs": [
        {
          "output_type": "stream",
          "name": "stdout",
          "text": [
            "Digite o raio: 10\n",
            "4188.790204786391\n"
          ]
        }
      ]
    },
    {
      "cell_type": "code",
      "source": [
        "#Exemplo 6) Angulo para radianos\n",
        "vgraus = float(input(\"Digite o valor em graus: \"))\n",
        "vrad = (vgraus*pi)/180\n",
        "vrad = vgraus*pi/180\n",
        "print(vrad)"
      ],
      "metadata": {
        "colab": {
          "base_uri": "https://localhost:8080/"
        },
        "id": "GiwkWYv76GU2",
        "outputId": "b6d76475-06de-4a07-b9c6-2e11dc5677c7"
      },
      "execution_count": 11,
      "outputs": [
        {
          "output_type": "stream",
          "name": "stdout",
          "text": [
            "Digite o valor em graus: 2\n",
            "0.03490658503988659\n"
          ]
        }
      ]
    },
    {
      "cell_type": "code",
      "source": [
        "#Exemplo 7) Radianos para graus\n",
        "vrad = float(input(\"Digite o valor em radianus: \"))\n",
        "vgraus = (vrad/pi)*180\n",
        "vgraus = vrad*180/pi\n",
        "print(vgraus)"
      ],
      "metadata": {
        "colab": {
          "base_uri": "https://localhost:8080/"
        },
        "id": "fX9nslR36UNH",
        "outputId": "d8d9d011-f595-4dfc-ebb7-f4c0f57b439e"
      },
      "execution_count": 12,
      "outputs": [
        {
          "output_type": "stream",
          "name": "stdout",
          "text": [
            "Digite o valor em radianus: 2\n",
            "114.59155902616465\n"
          ]
        }
      ]
    },
    {
      "cell_type": "code",
      "source": [
        "#Exemplo 8) Radianos para grados\n",
        "rad = float(input(\"Digite o valor em radianus: \"))\n",
        "grados = rad*400/(2*pi)\n",
        "print(grados)"
      ],
      "metadata": {
        "colab": {
          "base_uri": "https://localhost:8080/"
        },
        "id": "DIx_wCQy6hT4",
        "outputId": "39f62371-373a-46d7-a4bd-f43aa8c59007"
      },
      "execution_count": 14,
      "outputs": [
        {
          "output_type": "stream",
          "name": "stdout",
          "text": [
            "Digite o valor em radianus: 6.28\n",
            "399.7972170468411\n"
          ]
        }
      ]
    }
  ]
}