{
  "nbformat": 4,
  "nbformat_minor": 0,
  "metadata": {
    "colab": {
      "provenance": [],
      "authorship_tag": "ABX9TyPh2Sw7lHVlKOZXGM/CJ9rr",
      "include_colab_link": true
    },
    "kernelspec": {
      "name": "python3",
      "display_name": "Python 3"
    },
    "language_info": {
      "name": "python"
    }
  },
  "cells": [
    {
      "cell_type": "markdown",
      "metadata": {
        "id": "view-in-github",
        "colab_type": "text"
      },
      "source": [
        "<a href=\"https://colab.research.google.com/github/Vinizada2S/massaki/blob/main/CONTINUA%C3%87%C3%83O.ipynb\" target=\"_parent\"><img src=\"https://colab.research.google.com/assets/colab-badge.svg\" alt=\"Open In Colab\"/></a>"
      ]
    },
    {
      "cell_type": "code",
      "execution_count": 3,
      "metadata": {
        "colab": {
          "base_uri": "https://localhost:8080/",
          "height": 106
        },
        "id": "Is2JrHJd0n6h",
        "outputId": "0989d348-0946-43a0-8353-1352122674d2"
      },
      "outputs": [
        {
          "output_type": "error",
          "ename": "IndentationError",
          "evalue": "expected an indented block after 'if' statement on line 6 (<ipython-input-3-698764bd0006>, line 9)",
          "traceback": [
            "\u001b[0;36m  File \u001b[0;32m\"<ipython-input-3-698764bd0006>\"\u001b[0;36m, line \u001b[0;32m9\u001b[0m\n\u001b[0;31m    var1 = float(input(\"digite o valor da primeira variavel:\"))\u001b[0m\n\u001b[0m    ^\u001b[0m\n\u001b[0;31mIndentationError\u001b[0m\u001b[0;31m:\u001b[0m expected an indented block after 'if' statement on line 6\n"
          ]
        }
      ],
      "source": [
        "while true:\n",
        "  # Pergunta ao usuario se deseja realizar a soma de duas variáveis\n",
        "  resposta - input(\"deseja realizar a soma de duas variaveis? (s/n) \").strip().upper()\n",
        "\n",
        "  # se a resposta for \"s\", realize a soma\n",
        "  if resposta == 'S':\n",
        "\n",
        "  # Solicite ao usuario que insira os valores das variaveis\n",
        "  var1 = float(input(\"digite o valor da primeira variavel:\"))\n",
        "  var2 = float(input(\"digite o valor da segunda variavel:\"))\n",
        "\n",
        "  # realize as somas das variaveis\n",
        "  soma = var1 + var2\n",
        "\n",
        "  # exiba o resultado da soma\n",
        "  print(\"a soma de {var1} e {var2} é: {soma: .2}/n\")\n",
        "\n",
        "  # se a resposta for \"n\", terminar a loop\n",
        "  elif resposta -- \"n\" :\n",
        "    print(\"operação finalizada,\")\n",
        "    break\n",
        "\n",
        "    # caso o usuario insira uma resposta invalida, solicita novamente\n",
        "    else:\n",
        "      print(\"resposta invalida!! por favor, digite \"s\" para sim ou \"n\" para não\")"
      ]
    }
  ]
}