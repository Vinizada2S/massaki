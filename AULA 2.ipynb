{
  "nbformat": 4,
  "nbformat_minor": 0,
  "metadata": {
    "colab": {
      "provenance": [],
      "authorship_tag": "ABX9TyP71CP9M92EEohuxDxU1NVt",
      "include_colab_link": true
    },
    "kernelspec": {
      "name": "python3",
      "display_name": "Python 3"
    },
    "language_info": {
      "name": "python"
    }
  },
  "cells": [
    {
      "cell_type": "markdown",
      "metadata": {
        "id": "view-in-github",
        "colab_type": "text"
      },
      "source": [
        "<a href=\"https://colab.research.google.com/github/Vinizada2S/massaki/blob/main/AULA%202.ipynb\" target=\"_parent\"><img src=\"https://colab.research.google.com/assets/colab-badge.svg\" alt=\"Open In Colab\"/></a>"
      ]
    },
    {
      "cell_type": "code",
      "execution_count": null,
      "metadata": {
        "id": "emFpToyKu6Y3"
      },
      "outputs": [],
      "source": []
    },
    {
      "cell_type": "markdown",
      "source": [
        "#Dadas as notas a e b de um aluno, com pesos respectivamente 2 e 3; pede-se elaborar um programa em Python para calcular e exibir a média ponderada do aluno, verificar e informar, junto ao valor da sua média, se foi aprovado ou não (OBS: Considere aprovado se obtiver média igual ou superior a 5).\n",
        "#Dado o algoritmo a seguir, elabore o código python do programa em questão"
      ],
      "metadata": {
        "id": "9EkbB9-cw5yf"
      }
    },
    {
      "cell_type": "code",
      "source": [
        "from pickle import FLOAT\n",
        "a = float(input(\"digite nota a\"))\n",
        "b = float(input(\"digite nota b\"))\n",
        "m = (2*a + 3*b)/(2+3)\n",
        "if m >=5:\n",
        " print(\"aprovado\")\n",
        "else:\n",
        " print(\"reprovado\")"
      ],
      "metadata": {
        "colab": {
          "base_uri": "https://localhost:8080/"
        },
        "id": "dViZLU-jxBc3",
        "outputId": "64b5f583-09fe-42db-f22a-b32ddd5b9e2b"
      },
      "execution_count": 4,
      "outputs": [
        {
          "output_type": "stream",
          "name": "stdout",
          "text": [
            "digite nota a10\n",
            "digite nota b10\n",
            "aprovado\n"
          ]
        }
      ]
    },
    {
      "cell_type": "code",
      "source": [],
      "metadata": {
        "id": "dnyEaX7txgTD"
      },
      "execution_count": null,
      "outputs": []
    },
    {
      "cell_type": "markdown",
      "source": [
        "# Elaborar um programa em python que solicite ao usuário um valor inteiro e em seguida informe ao usuário se o valor é múltiplo de 3 ou não."
      ],
      "metadata": {
        "id": "HcDErkV5xggK"
      }
    },
    {
      "cell_type": "code",
      "source": [
        "numero = int(input(\"Digite um numero inteiro: \"))\n",
        "if numero % 3 == 0:\n",
        "  print(f\"o numero {numero} é multiplo.\")\n",
        "else:\n",
        "  print(f\"o numero {numero} Nao Multiplo.\")"
      ],
      "metadata": {
        "colab": {
          "base_uri": "https://localhost:8080/"
        },
        "id": "UiYIQ-6jxoD7",
        "outputId": "761b1e52-8556-4c72-e2a6-db74e7105cda"
      },
      "execution_count": 6,
      "outputs": [
        {
          "output_type": "stream",
          "name": "stdout",
          "text": [
            "Digite um numero inteiro: 3\n",
            "o numero 3 é multiplo.\n"
          ]
        }
      ]
    }
  ]
}