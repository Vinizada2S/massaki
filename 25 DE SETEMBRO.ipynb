{
  "nbformat": 4,
  "nbformat_minor": 0,
  "metadata": {
    "colab": {
      "provenance": [],
      "authorship_tag": "ABX9TyMXf9O1kF2uTyhKEmsRkKXt",
      "include_colab_link": true
    },
    "kernelspec": {
      "name": "python3",
      "display_name": "Python 3"
    },
    "language_info": {
      "name": "python"
    }
  },
  "cells": [
    {
      "cell_type": "markdown",
      "metadata": {
        "id": "view-in-github",
        "colab_type": "text"
      },
      "source": [
        "<a href=\"https://colab.research.google.com/github/Vinizada2S/massaki/blob/main/25%20DE%20SETEMBRO.ipynb\" target=\"_parent\"><img src=\"https://colab.research.google.com/assets/colab-badge.svg\" alt=\"Open In Colab\"/></a>"
      ]
    },
    {
      "cell_type": "code",
      "execution_count": null,
      "metadata": {
        "id": "swexMugu3rtE"
      },
      "outputs": [],
      "source": []
    },
    {
      "cell_type": "markdown",
      "source": [
        "#25 de setembro"
      ],
      "metadata": {
        "id": "kzsXeREF3zUP"
      }
    },
    {
      "cell_type": "code",
      "source": [
        "while True:\n",
        "  resposta = input(\"Deseja realizar a soma de 2 variaveis? (S/N): \").strip().upper()\n",
        "  if resposta == 'S':\n",
        "    var1 = float(input(\"Digite a variavel: \"))\n",
        "    var2 = float(input(\"Digite a variavel: \"))\n",
        "    soma = var1 + var2\n",
        "    print(f\"A soma de [var1] e [var2] é: {soma:.2f}\\n\")\n",
        "  elif resposta == 'N':\n",
        "    print(\"Operação finalizada\")\n",
        "    break\n",
        "  else:\n",
        "    print(\"Resposta inválida! Por favor digite s para sim ou n para não\")"
      ],
      "metadata": {
        "id": "L4kALgvL31Hm"
      },
      "execution_count": null,
      "outputs": []
    }
  ]
}