{
  "nbformat": 4,
  "nbformat_minor": 0,
  "metadata": {
    "colab": {
      "provenance": [],
      "authorship_tag": "ABX9TyPCBFyl5gBT5+c43ryFUrSv",
      "include_colab_link": true
    },
    "kernelspec": {
      "name": "python3",
      "display_name": "Python 3"
    },
    "language_info": {
      "name": "python"
    }
  },
  "cells": [
    {
      "cell_type": "markdown",
      "metadata": {
        "id": "view-in-github",
        "colab_type": "text"
      },
      "source": [
        "<a href=\"https://colab.research.google.com/github/Vinizada2S/massaki/blob/main/11%20de%20setembro.ipynb\" target=\"_parent\"><img src=\"https://colab.research.google.com/assets/colab-badge.svg\" alt=\"Open In Colab\"/></a>"
      ]
    },
    {
      "cell_type": "code",
      "execution_count": null,
      "metadata": {
        "id": "yTkF-MS069wM"
      },
      "outputs": [],
      "source": []
    },
    {
      "cell_type": "markdown",
      "source": [
        "#11 de setembro"
      ],
      "metadata": {
        "id": "2FfQSq1u7FyC"
      }
    },
    {
      "cell_type": "code",
      "source": [
        "#Par ou impar\n",
        "numero = int(input(\"Digite um numero inteiro: \"))\n",
        "if numero % 2 == 0:\n",
        "  print(f\"O numero {numero} é par.\")\n",
        "else:\n",
        "  print(f\"O numero {numero} é impar.\")"
      ],
      "metadata": {
        "colab": {
          "base_uri": "https://localhost:8080/"
        },
        "id": "TNcPyfk27H3Y",
        "outputId": "6a3c58e7-04b0-466b-ea63-8c948574f7f2"
      },
      "execution_count": 1,
      "outputs": [
        {
          "output_type": "stream",
          "name": "stdout",
          "text": [
            "Digite um numero inteiro: 42\n",
            "O numero 42 é par.\n"
          ]
        }
      ]
    },
    {
      "cell_type": "code",
      "source": [
        "import math\n",
        "numero = float(input(\"Digite um número: \"))\n",
        "if numero >= 0:\n",
        "  raiz_quadrada = math.sqrt(numero)\n",
        "  print(f\"A raiz quadrada de {numero} é {raiz_quadrada:.2f}.\")\n",
        "else:\n",
        "    print(\"Não existe raiz real para este número!\")"
      ],
      "metadata": {
        "colab": {
          "base_uri": "https://localhost:8080/"
        },
        "id": "qoa3tcNw7a4W",
        "outputId": "f05630ae-c2c6-4588-e5fc-8f7a105185b9"
      },
      "execution_count": 4,
      "outputs": [
        {
          "output_type": "stream",
          "name": "stdout",
          "text": [
            "Digite um número: 4\n",
            "A raiz quadrada de 4.0 é 2.00.\n"
          ]
        }
      ]
    },
    {
      "cell_type": "code",
      "source": [
        "#Tamanho da camiseta\n",
        "comprimento = float(input(\"Digite a comprimento da camiseta em centimetros: \"))\n",
        "largura = float(input(\"Digite a largura da camiseta em centimetros: \"))\n",
        "if comprimento <= 60 and largura <= 45:\n",
        "  tamanho = \"PP\"\n",
        "elif comprimento <= 65 and largura <= 48:\n",
        "  tamanho = \"P\"\n",
        "elif comprimento <= 70 and largura <= 51:\n",
        "  tamanho = \"M\"\n",
        "elif comprimento <= 75 and largura <= 54:\n",
        "  tamanho = \"G\"\n",
        "elif comprimento <= 80 and largura <= 57:\n",
        "  tamanho = \"GG\"\n",
        "else:\n",
        "  tamanho = \"XGG\"\n",
        "print(f\"O tamanho da camiseta é {tamanho}.\")"
      ],
      "metadata": {
        "colab": {
          "base_uri": "https://localhost:8080/"
        },
        "id": "yB74rkLu7-fZ",
        "outputId": "08718386-7d6d-4eb3-b7cb-1c797293a83a"
      },
      "execution_count": 5,
      "outputs": [
        {
          "output_type": "stream",
          "name": "stdout",
          "text": [
            "Digite a comprimento da camiseta em centimetros: 5\n",
            "Digite a largura da camiseta em centimetros: 5\n",
            "O tamanho da camiseta é PP.\n"
          ]
        }
      ]
    }
  ]
}