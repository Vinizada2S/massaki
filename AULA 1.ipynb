{
  "nbformat": 4,
  "nbformat_minor": 0,
  "metadata": {
    "colab": {
      "provenance": [],
      "authorship_tag": "ABX9TyPVzwKOGMhj2PGE7vCHP9Fc",
      "include_colab_link": true
    },
    "kernelspec": {
      "name": "python3",
      "display_name": "Python 3"
    },
    "language_info": {
      "name": "python"
    }
  },
  "cells": [
    {
      "cell_type": "markdown",
      "metadata": {
        "id": "view-in-github",
        "colab_type": "text"
      },
      "source": [
        "<a href=\"https://colab.research.google.com/github/Vinizada2S/massaki/blob/main/AULA%201.ipynb\" target=\"_parent\"><img src=\"https://colab.research.google.com/assets/colab-badge.svg\" alt=\"Open In Colab\"/></a>"
      ]
    },
    {
      "cell_type": "code",
      "execution_count": null,
      "metadata": {
        "id": "x-7VhHFapf5E"
      },
      "outputs": [],
      "source": []
    },
    {
      "cell_type": "markdown",
      "source": [
        "#EXEMLPLO 2 POLEGADA PARA MILIMETRO"
      ],
      "metadata": {
        "id": "ss82cEJKplbq"
      }
    },
    {
      "cell_type": "code",
      "source": [
        "pol = float(input(\"digite media em polegadas: \"))\n",
        "milimetro = pol * 25,4\n",
        "print(\"valor em mm= \",milimetro)"
      ],
      "metadata": {
        "colab": {
          "base_uri": "https://localhost:8080/"
        },
        "id": "Hjw3giXzpt77",
        "outputId": "f1ba7fa4-7f36-4a9f-f842-9bf78bb821fa"
      },
      "execution_count": 2,
      "outputs": [
        {
          "output_type": "stream",
          "name": "stdout",
          "text": [
            "digite media em polegadas: 5154\n",
            "valor em mm=  (128850.0, 4)\n"
          ]
        }
      ]
    },
    {
      "cell_type": "code",
      "source": [],
      "metadata": {
        "id": "pMskak0xrS0_"
      },
      "execution_count": null,
      "outputs": []
    },
    {
      "cell_type": "markdown",
      "source": [
        "#Exemplo 5) Calculo de Volume de Esfera\n"
      ],
      "metadata": {
        "id": "wSoNAUgiraGX"
      }
    },
    {
      "cell_type": "code",
      "source": [
        "from math import pi\n",
        "r = float(input(\"Digite o raio: \"))\n",
        "vol = (4/3)*pi*r**3\n",
        "print(\"volume= \",vol)"
      ],
      "metadata": {
        "colab": {
          "base_uri": "https://localhost:8080/"
        },
        "id": "yFQBNmsNrc6g",
        "outputId": "7769e394-f43b-42b5-8162-b9d8fe7fc59f"
      },
      "execution_count": 11,
      "outputs": [
        {
          "output_type": "stream",
          "name": "stdout",
          "text": [
            "Digite o raio: 2\n",
            "volume=  33.510321638291124\n"
          ]
        }
      ]
    },
    {
      "cell_type": "code",
      "source": [],
      "metadata": {
        "id": "7MtB8baxslIn"
      },
      "execution_count": null,
      "outputs": []
    },
    {
      "cell_type": "markdown",
      "source": [
        "#Exemplo 6) Angulo para radianos\n"
      ],
      "metadata": {
        "id": "tCwSP3GNsldv"
      }
    },
    {
      "cell_type": "code",
      "source": [
        "vgraus = float(input(\"Digite o valor em graus: \"))\n",
        "vrad = (vgraus*pi)/180\n",
        "vrad = vgraus*pi/180\n",
        "print(vrad)"
      ],
      "metadata": {
        "colab": {
          "base_uri": "https://localhost:8080/"
        },
        "id": "ErF2uSlWssbH",
        "outputId": "40a2b39d-3b55-40f8-b555-fbb5d6270568"
      },
      "execution_count": 12,
      "outputs": [
        {
          "output_type": "stream",
          "name": "stdout",
          "text": [
            "Digite o valor em graus: 1\n",
            "0.017453292519943295\n"
          ]
        }
      ]
    },
    {
      "cell_type": "code",
      "source": [],
      "metadata": {
        "id": "Ase9Edr-swdR"
      },
      "execution_count": null,
      "outputs": []
    },
    {
      "cell_type": "markdown",
      "source": [
        "#Exemplo 7) Radianos para graus"
      ],
      "metadata": {
        "id": "NzcZgEpGswvx"
      }
    },
    {
      "cell_type": "code",
      "source": [
        "vrad = float(input(\"Digite o valor em radianos: \"))\n",
        "vgraus = (vrad/pi)*180\n",
        "vgraus = vrad*180/pi\n",
        "print(vgraus)"
      ],
      "metadata": {
        "colab": {
          "base_uri": "https://localhost:8080/"
        },
        "id": "BfNL4Kujs0wx",
        "outputId": "67879bb9-a1a0-485c-ce8a-052638138a2f"
      },
      "execution_count": 13,
      "outputs": [
        {
          "output_type": "stream",
          "name": "stdout",
          "text": [
            "Digite o valor em radianos: 1\n",
            "57.29577951308232\n"
          ]
        }
      ]
    },
    {
      "cell_type": "code",
      "source": [],
      "metadata": {
        "id": "rvZMSoMUs6CC"
      },
      "execution_count": null,
      "outputs": []
    },
    {
      "cell_type": "markdown",
      "source": [
        "#Exemplo 8) Radianos para grados"
      ],
      "metadata": {
        "id": "9G5pxdLbs6Qy"
      }
    },
    {
      "cell_type": "code",
      "source": [
        "rad = float(input(\"Digite o valor em radianus: \"))\n",
        "grados = rad*400/(2*pi)\n",
        "print(grados)"
      ],
      "metadata": {
        "colab": {
          "base_uri": "https://localhost:8080/"
        },
        "id": "ROVwJVyzs8yi",
        "outputId": "09427198-a216-4d85-e92c-9a2647e4b0b0"
      },
      "execution_count": 14,
      "outputs": [
        {
          "output_type": "stream",
          "name": "stdout",
          "text": [
            "Digite o valor em radianus: 1\n",
            "63.66197723675813\n"
          ]
        }
      ]
    }
  ]
}