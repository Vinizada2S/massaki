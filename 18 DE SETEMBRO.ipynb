{
  "nbformat": 4,
  "nbformat_minor": 0,
  "metadata": {
    "colab": {
      "provenance": [],
      "authorship_tag": "ABX9TyMUwa7X3r9svCxqXu5rLcSa",
      "include_colab_link": true
    },
    "kernelspec": {
      "name": "python3",
      "display_name": "Python 3"
    },
    "language_info": {
      "name": "python"
    }
  },
  "cells": [
    {
      "cell_type": "markdown",
      "metadata": {
        "id": "view-in-github",
        "colab_type": "text"
      },
      "source": [
        "<a href=\"https://colab.research.google.com/github/Vinizada2S/massaki/blob/main/18%20DE%20SETEMBRO.ipynb\" target=\"_parent\"><img src=\"https://colab.research.google.com/assets/colab-badge.svg\" alt=\"Open In Colab\"/></a>"
      ]
    },
    {
      "cell_type": "code",
      "execution_count": null,
      "metadata": {
        "id": "53YkD_ie1o6p"
      },
      "outputs": [],
      "source": []
    },
    {
      "cell_type": "markdown",
      "source": [
        "# 18 de setembro"
      ],
      "metadata": {
        "id": "Ps7zljxD2UMV"
      }
    },
    {
      "cell_type": "code",
      "source": [
        "#Multiplo de 3\n",
        "numero = int(input(\"Digite um numero inteiro: \"))\n",
        "if numero % 3 == 0:\n",
        "  print(\"Multiplo\")\n",
        "else:\n",
        "  print(\"Não multiplo\")\n"
      ],
      "metadata": {
        "colab": {
          "base_uri": "https://localhost:8080/"
        },
        "id": "Ey4dY7g82aoP",
        "outputId": "9440bac2-9872-4acf-c6e9-ac98de3cc0da"
      },
      "execution_count": 1,
      "outputs": [
        {
          "output_type": "stream",
          "name": "stdout",
          "text": [
            "Digite um numero inteiro: 999\n",
            "Multiplo\n"
          ]
        }
      ]
    },
    {
      "cell_type": "code",
      "source": [
        "#Média aluno\n",
        "nota1 = float(input(\"Digite a nota: \"))\n",
        "nota2 = float(input(\"Digite a nota: \"))\n",
        "m = (2*nota1 + 3*nota2)/(2+3)\n",
        "if m >= 5:\n",
        "  print(\"Aprovado\")\n",
        "else:\n",
        "  print(\"Reprovado\")"
      ],
      "metadata": {
        "colab": {
          "base_uri": "https://localhost:8080/"
        },
        "id": "qSB49rvQ3DpG",
        "outputId": "7beccc1c-6912-4859-87d4-303cefea9f38"
      },
      "execution_count": 2,
      "outputs": [
        {
          "output_type": "stream",
          "name": "stdout",
          "text": [
            "Digite a nota: 10\n",
            "Digite a nota: 10\n",
            "Aprovado\n"
          ]
        }
      ]
    },
    {
      "cell_type": "code",
      "source": [
        "#Ler valores\n",
        "a = float(input(\"Digite o primeiro valor: \"))\n",
        "b = float(input(\"Digite o segundo valor: \"))\n",
        "c = float(input(\"Digite o terceiro valor: \"))\n",
        "if a<=b and a<=c:\n",
        "  menor = a\n",
        "elif b<=a and b<=c:\n",
        "  menor = b\n",
        "else:\n",
        "  menor = c\n",
        "print(menor)"
      ],
      "metadata": {
        "colab": {
          "base_uri": "https://localhost:8080/"
        },
        "id": "RlAFW80-3PIe",
        "outputId": "2399ee90-5875-425b-bb3b-67a6851c1df3"
      },
      "execution_count": 3,
      "outputs": [
        {
          "output_type": "stream",
          "name": "stdout",
          "text": [
            "Digite o primeiro valor: 5\n",
            "Digite o segundo valor: 2\n",
            "Digite o terceiro valor: 9\n",
            "2.0\n"
          ]
        }
      ]
    }
  ]
}